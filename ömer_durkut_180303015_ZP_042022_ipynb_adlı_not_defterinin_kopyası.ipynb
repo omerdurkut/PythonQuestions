{
  "cells": [
    {
      "cell_type": "markdown",
      "metadata": {
        "id": "dKdl_bZo4euc"
      },
      "source": [
        "# VWL110 Ara Sınavı - Nisan 2022\n",
        "--------------------"
      ]
    },
    {
      "cell_type": "markdown",
      "metadata": {
        "id": "HtFu9DX14euh"
      },
      "source": [
        "\n",
        "### Aşağıdaki problemlere uygun çözümler üretin.\n",
        "##### Soruları kod kulanarak cevaplayın. \n",
        "##### İsterseniz çözümde bir veya daha fazla fonksiyon tanımlayabilirsiniz. Her fonksiyon için ayrı hücre açmanız gerekmemektedir.\n",
        "##### Kodlama yapmadan direkt yazdığınız cevaplardan puan verilmeyecektir.\n",
        "##### İnternetten kaynağını belirtmek şartıyla kaynak araştırması yapabilirsiniz, ancak arkadaşlarınızdan yardım almanız yasaktır. Tespiti halinde aşağıdaki kopya ile ilgili hükümler uygulanır.\n",
        "##### Sınavınız bittikten sonra <b>isim_soyisim.ipynb</b> olarak bilgisayarınıza kaydedin ve Classroom ödevini teslim edin. Lütfen Google Colab üzerinde yaptığınız dosyayı paylaşım olarak eklemeyin.\n",
        "\n",
        "--------------------\n",
        "\n",
        "<br><br><br>"
      ]
    },
    {
      "cell_type": "markdown",
      "metadata": {
        "id": "3qENDYuG4euj"
      },
      "source": [
        "<b>TÜRK-ALMAN ÜNİVERSİTESİ LİSANS EĞİTİM-ÖĞRETİM\n",
        "VE SINAV YÖNETMELİĞİ</b> <br>\n",
        "<b>Kopya ve intihal</b> <br>\n",
        "MADDE 23 – <br>(1) Bir öğrencinin sınavda kopya çekmesi, kopya vermesi, kopya çekmeye veya vermeye teşebbüs\n",
        "etmesi, ödev, proje ve laboratuvar çalışmalarında kaynak belirtmeden kısmen veya tamamen intihalde bulunması veya ödev,\n",
        "proje ve laboratuvar çalışmalarının kendisi tarafından yapılmadığının saptanması halinde, öğrenci hakkında Yükseköğretim\n",
        "Kurumları Öğrenci Disiplin Yönetmeliği hükümlerine göre işlem yapılır.\n",
        "<br>(2) Kopya çekildiği, intihalde bulunulduğu veya çalışmanın öğrencinin kendisi tarafından yapılmadığı bildirilen sınava\n",
        "sıfır (0) notu verilir <br><br>\n",
        "<b>YÜKSEKÖĞRETİM KURUMLARI ÖĞRENCİ DİSİPLİN YÖNETMELİĞİ</b> <br>\n",
        "5/d ve 7/e maddelerine göre sınavda kopya çeken öğrenciye kınama cezası verilir ve bir yarıyıl uzaklaştırma gerektiren disiplin cezası uygulanır.\n",
        "------"
      ]
    },
    {
      "cell_type": "markdown",
      "metadata": {
        "id": "pG3X4yyF4euk"
      },
      "source": [
        "<br><b> Problem 1</b>. <br>(10 Puan)<br><br>x değişkeni; <br>\n",
        "\n",
        "  <b>(a)</b> bir tam sayı, <br>\n",
        "  <b>(b)</b> 13'e bölümünden 4 kalan en küçük dört basamaklı doğal sayı, <br>\n",
        "  <b>(c)</b> rakamları birbirinden farklı bir sayı olduğuna göre x'i hesaplayıp yazdırın. "
      ]
    },
    {
      "cell_type": "code",
      "execution_count": null,
      "metadata": {
        "id": "RZ-bVBCM4eul",
        "outputId": "102e04da-0a6a-498b-b975-b50b787836e0",
        "colab": {
          "base_uri": "https://localhost:8080/"
        }
      },
      "outputs": [
        {
          "output_type": "stream",
          "name": "stdout",
          "text": [
            "1057\n"
          ]
        }
      ],
      "source": [
        "def myfunction():\n",
        "    \n",
        "    \n",
        "    for i in range(1000,10000):\n",
        "        if len(set(str(i)))== len(str(i)) and i%13==4:\n",
        "            print(i)\n",
        "            break\n",
        "myfunction()  "
      ]
    },
    {
      "cell_type": "markdown",
      "metadata": {
        "id": "jWmNfua94eum"
      },
      "source": [
        "<br><br>\n",
        "<b> Problem 2</b>. <br>(10 Puan)<br><br>Aşağıdaki hücreyi çalıştırın. <br>\n",
        "  Buna göre metin içindeki Türkçe karakter barındıran kelimeleri listeleyin."
      ]
    },
    {
      "cell_type": "code",
      "execution_count": null,
      "metadata": {
        "id": "ojYUvTNK4eun"
      },
      "outputs": [],
      "source": [
        "metin =\"Dünya, Güneş Sistemi'nde Güneş'e en yakın üçüncü gezegen olup şu an için üzerinde yaşam ve sıvı su barındırdığı bilinen tek astronomik cisimdir. Radyometrik tarihleme ve diğer kanıtlara göre 4,5 milyar yıldan fazla süre önce oluşmuştur. Dünya'nın yer çekimi, uzaydaki diğer nesnelerle, özellikle Güneş'le ve tek doğal uydusu Ay'la etkileşime girer. Dünya'nın Güneş'in etrafındaki yörüngesi, 365,256 güneş gün, yani bir yıldız yılı sürer. Bu süre içerisinde Dünya, kendi ekseni etrafında 366,265 kez döner.\""
      ]
    },
    {
      "cell_type": "code",
      "execution_count": null,
      "metadata": {
        "id": "hP6JaU6X4eup",
        "outputId": "7ac9390c-541b-4ce7-ede5-38c65901d33d",
        "colab": {
          "base_uri": "https://localhost:8080/"
        }
      },
      "outputs": [
        {
          "output_type": "stream",
          "name": "stdout",
          "text": [
            "['Dünya', 'Güneş', \"Güneş'e\", 'yakın', 'üçüncü', 'şu', 'için', 'üzerinde', 'yaşam', 'sıvı', 'barındırdığı', 'diğer', 'kanıtlara', 'göre', 'yıldan', 'süre', 'önce', 'oluşmuştur', \"Dünya'nın\", 'çekimi', 'diğer', 'özellikle', \"Güneş'le\", 'doğal', 'etkileşime', \"Dünya'nın\", \"Güneş'in\", 'etrafındaki', 'yörüngesi', 'güneş', 'gün', 'yıldız', 'yılı', 'sürer', 'süre', 'içerisinde', 'Dünya', 'etrafında', 'döner']\n"
          ]
        }
      ],
      "source": [
        "a = metin.replace(',', '').replace('.', '').split(\" \")\n",
        "\n",
        "karakterlist = [\"ı\", \"ş\", \"ç\", \"ü\", \"ğ\", \"ö\"]\n",
        "\n",
        "#Reference: https://www.codingem.com/python-string-contains-characters/\n",
        "list1 = []\n",
        "for i in a:\n",
        "    if (any([karakter in i for karakter in karakterlist])):\n",
        "        list1.append(i)\n",
        "print(list1)"
      ]
    },
    {
      "cell_type": "markdown",
      "metadata": {
        "id": "Z_92Wy_04euq"
      },
      "source": [
        "<br><br><b>Problem 3.</b><br>(10 Puan)<br><br>\n",
        "Aşağıda verilen fonksiyon istenildiği gibi çalışmamaktadır. Sorunu tespit edip doğru çalışacak şekilde düzeltin.<br>\n",
        "<b>Amaç:</b> Rakamları farklı sayılara True, olmayanlara False diye dönmek <br>\n",
        "<b>Hata:</b> Kodlama hata vermiyor ama yanlış sonuç veriyor."
      ]
    },
    {
      "cell_type": "code",
      "execution_count": null,
      "metadata": {
        "id": "YeZILnKo4eur"
      },
      "outputs": [],
      "source": [
        "def check_number(number):\n",
        "    number = str(number)\n",
        "    for num in number:\n",
        "        if number.count(num) >1:\n",
        "            return False\n",
        "        else:\n",
        "            return True"
      ]
    },
    {
      "cell_type": "markdown",
      "metadata": {
        "id": "JOunFh4a4eus"
      },
      "source": [
        "<b>Örnek:</b>"
      ]
    },
    {
      "cell_type": "code",
      "execution_count": null,
      "metadata": {
        "id": "5D6SIcAB4eut",
        "outputId": "5a9376ef-34da-42a6-b04e-d75d7b7f943d"
      },
      "outputs": [
        {
          "data": {
            "text/plain": [
              "True"
            ]
          },
          "execution_count": 2,
          "metadata": {},
          "output_type": "execute_result"
        }
      ],
      "source": [
        "check_number(\"1222\")"
      ]
    },
    {
      "cell_type": "code",
      "execution_count": null,
      "metadata": {
        "id": "jbQ3EOHW4euw",
        "outputId": "cc470b3a-b075-4d0b-85d6-7ef91cde9110",
        "colab": {
          "base_uri": "https://localhost:8080/"
        }
      },
      "outputs": [
        {
          "output_type": "stream",
          "name": "stdout",
          "text": [
            "False\n"
          ]
        }
      ],
      "source": [
        "def check_number(number): \n",
        "    number = str(number)\n",
        "    cnt = 0\n",
        "    a = 0\n",
        "    for num in number:\n",
        "        cnt += 1\n",
        "        if number.count(num) >1:\n",
        "            a += 1\n",
        "        if cnt == len(number):\n",
        "            if a > 1:\n",
        "                return False\n",
        "            else:\n",
        "                return True\n",
        "\n",
        "print(check_number(\"1222\"))"
      ]
    },
    {
      "cell_type": "code",
      "source": [
        "check_number(\"1234\")"
      ],
      "metadata": {
        "id": "PH0zQptH4pg_",
        "outputId": "094267db-d276-45aa-e736-e67fce5339c7",
        "colab": {
          "base_uri": "https://localhost:8080/"
        }
      },
      "execution_count": null,
      "outputs": [
        {
          "output_type": "execute_result",
          "data": {
            "text/plain": [
              "True"
            ]
          },
          "metadata": {},
          "execution_count": 30
        }
      ]
    },
    {
      "cell_type": "code",
      "source": [
        "check_number(\"122334\")"
      ],
      "metadata": {
        "id": "8eJ806xN4u_9",
        "outputId": "6e151160-a4b1-41f7-974f-a57c0d4ac1dd",
        "colab": {
          "base_uri": "https://localhost:8080/"
        }
      },
      "execution_count": null,
      "outputs": [
        {
          "output_type": "execute_result",
          "data": {
            "text/plain": [
              "False"
            ]
          },
          "metadata": {},
          "execution_count": 31
        }
      ]
    },
    {
      "cell_type": "markdown",
      "metadata": {
        "id": "1qJjN8mB4euz"
      },
      "source": [
        "<br><br><b>Problem 4.</b><br>(10 Puan)<br><br>\n",
        "Aşağıda verilen fonksiyon istenildiği gibi çalışmamaktadır. Sorunu tespit edip doğru çalışacak şekilde düzeltin.<br>\n",
        "<b>Amaç:</b> A ile B noktaları arası 100 metredir. x değişkeni A noktasına uzaklığı metre cinsinden temsil ediyor. A'dan yola çıkan bir tavşan eğer x üçe bölünmüyorsa bir zıplamada iki metre, x üçe bölünüyorsa 6 metre gitmektedir. Amaç tavşanın A'dan B'ye kaç zıplamada (y) gideceğini bulmak.    <br>\n",
        "<b>Hata:</b> Zıplama sayısı y 100 çıkıyor."
      ]
    },
    {
      "cell_type": "code",
      "execution_count": null,
      "metadata": {
        "id": "lYEBU-kh4eu4",
        "outputId": "c1ddccd5-7f7b-4980-94f1-61cf03f8725a"
      },
      "outputs": [
        {
          "name": "stdout",
          "output_type": "stream",
          "text": [
            "100\n"
          ]
        }
      ],
      "source": [
        "x = 0\n",
        "y = 0\n",
        "for x in range(0,100):\n",
        "    if x % 3:\n",
        "        x = x+6\n",
        "        y = y+1\n",
        "    else:\n",
        "        x = x+2\n",
        "        y = y+1\n",
        "print(y)"
      ]
    },
    {
      "cell_type": "code",
      "execution_count": null,
      "metadata": {
        "id": "mfl0Xijq4eu6",
        "outputId": "951d34c7-a194-409d-dfae-edd2434c1c3b",
        "colab": {
          "base_uri": "https://localhost:8080/"
        }
      },
      "outputs": [
        {
          "output_type": "stream",
          "name": "stdout",
          "text": [
            "17\n"
          ]
        }
      ],
      "source": [
        "#Problem for döngüsü içerisinde olmamızdı. Döngü her tekrar ettiğinde y bir artıyor ve sonuç 100 çıkıyordu. \n",
        "# Bu sorunu while döngüsü kullanarak giderdim.\n",
        "x = 0\n",
        "y = 0\n",
        "while(x < 100):\n",
        "    if x % 3 == 0:\n",
        "        x += 6\n",
        "        y += 1\n",
        "    else:\n",
        "        x += 2\n",
        "        y += 1\n",
        "print(y)"
      ]
    },
    {
      "cell_type": "markdown",
      "metadata": {
        "id": "HDwENbra4eu7"
      },
      "source": [
        "<br><br><b>Problem 5.</b><br>(20 Puan)<br><br>\n",
        "Aşağıda verilen hataları inceleyerek hatayı düzeltin."
      ]
    },
    {
      "cell_type": "markdown",
      "metadata": {
        "id": "rLm-c0tl4eu9"
      },
      "source": [
        "<br><br><b>5.a</b><br>"
      ]
    },
    {
      "cell_type": "code",
      "execution_count": null,
      "metadata": {
        "id": "nHno7Pq84eu-",
        "outputId": "92c8c554-9f6a-4b8b-e3eb-a1c884440e1f"
      },
      "outputs": [
        {
          "ename": "SyntaxError",
          "evalue": "Missing parentheses in call to 'print'. Did you mean print(\"1234\")? (<ipython-input-40-734611c701ff>, line 1)",
          "output_type": "error",
          "traceback": [
            "\u001b[0;36m  File \u001b[0;32m\"<ipython-input-40-734611c701ff>\"\u001b[0;36m, line \u001b[0;32m1\u001b[0m\n\u001b[0;31m    print \"1234\"\u001b[0m\n\u001b[0m          ^\u001b[0m\n\u001b[0;31mSyntaxError\u001b[0m\u001b[0;31m:\u001b[0m Missing parentheses in call to 'print'. Did you mean print(\"1234\")?\n"
          ]
        }
      ],
      "source": [
        "print \"1234\""
      ]
    },
    {
      "cell_type": "code",
      "execution_count": null,
      "metadata": {
        "id": "bNknTcgM4eu_",
        "outputId": "333aa638-9e9b-4f22-8482-cf535b5c5332",
        "colab": {
          "base_uri": "https://localhost:8080/"
        }
      },
      "outputs": [
        {
          "output_type": "stream",
          "name": "stdout",
          "text": [
            "1234\n"
          ]
        }
      ],
      "source": [
        "print(\"1234\")"
      ]
    },
    {
      "cell_type": "markdown",
      "metadata": {
        "id": "VRC299Ag4evA"
      },
      "source": [
        "<br><br><b>5.b</b><br>"
      ]
    },
    {
      "cell_type": "code",
      "execution_count": null,
      "metadata": {
        "id": "boHzNnG84evB",
        "outputId": "e4d9dc66-fe4e-423c-9934-c996866978f7"
      },
      "outputs": [
        {
          "ename": "AttributeError",
          "evalue": "'int' object has no attribute 'count'",
          "output_type": "error",
          "traceback": [
            "\u001b[0;31m---------------------------------------------------------------------------\u001b[0m",
            "\u001b[0;31mAttributeError\u001b[0m                            Traceback (most recent call last)",
            "\u001b[0;32m<ipython-input-42-15c3fa5ec822>\u001b[0m in \u001b[0;36m<module>\u001b[0;34m\u001b[0m\n\u001b[1;32m      1\u001b[0m \u001b[0msayi\u001b[0m \u001b[0;34m=\u001b[0m \u001b[0;36m1234\u001b[0m\u001b[0;34m\u001b[0m\u001b[0;34m\u001b[0m\u001b[0m\n\u001b[0;32m----> 2\u001b[0;31m \u001b[0msayi\u001b[0m\u001b[0;34m.\u001b[0m\u001b[0mcount\u001b[0m\u001b[0;34m(\u001b[0m\u001b[0;36m1\u001b[0m\u001b[0;34m)\u001b[0m\u001b[0;34m\u001b[0m\u001b[0;34m\u001b[0m\u001b[0m\n\u001b[0m",
            "\u001b[0;31mAttributeError\u001b[0m: 'int' object has no attribute 'count'"
          ]
        }
      ],
      "source": [
        "sayi = 1234\n",
        "sayi.count(1)"
      ]
    },
    {
      "cell_type": "code",
      "execution_count": null,
      "metadata": {
        "id": "q1_YjKQG4evC",
        "outputId": "bd7caf0f-5ad4-45c3-a1a0-d3f081ed1756",
        "colab": {
          "base_uri": "https://localhost:8080/"
        }
      },
      "outputs": [
        {
          "output_type": "execute_result",
          "data": {
            "text/plain": [
              "1"
            ]
          },
          "metadata": {},
          "execution_count": 17
        }
      ],
      "source": [
        "sayi = 1234\n",
        "str(sayi).count(\"1\")"
      ]
    },
    {
      "cell_type": "markdown",
      "metadata": {
        "id": "AiyYQv934evC"
      },
      "source": [
        "<br><br><b>5.c</b><br>"
      ]
    },
    {
      "cell_type": "code",
      "execution_count": null,
      "metadata": {
        "id": "ainDq3U64evD",
        "outputId": "ee3490b7-5091-4d2c-ef43-5048a977f2e0"
      },
      "outputs": [
        {
          "ename": "NameError",
          "evalue": "name 'aranılan_deger' is not defined",
          "output_type": "error",
          "traceback": [
            "\u001b[0;31m---------------------------------------------------------------------------\u001b[0m",
            "\u001b[0;31mNameError\u001b[0m                                 Traceback (most recent call last)",
            "\u001b[0;32m<ipython-input-44-9637900aec3b>\u001b[0m in \u001b[0;36m<module>\u001b[0;34m\u001b[0m\n\u001b[1;32m      1\u001b[0m \u001b[0maranilan_deger\u001b[0m \u001b[0;34m=\u001b[0m \u001b[0;34m\"1234\"\u001b[0m\u001b[0;34m\u001b[0m\u001b[0;34m\u001b[0m\u001b[0m\n\u001b[0;32m----> 2\u001b[0;31m \u001b[0mtype\u001b[0m\u001b[0;34m(\u001b[0m\u001b[0maranılan_deger\u001b[0m\u001b[0;34m)\u001b[0m\u001b[0;34m\u001b[0m\u001b[0;34m\u001b[0m\u001b[0m\n\u001b[0m",
            "\u001b[0;31mNameError\u001b[0m: name 'aranılan_deger' is not defined"
          ]
        }
      ],
      "source": [
        "aranilan_deger = \"1234\"\n",
        "type(aranılan_deger)"
      ]
    },
    {
      "cell_type": "code",
      "execution_count": null,
      "metadata": {
        "id": "Otn4RxKt4evE",
        "outputId": "7238900f-8539-425d-a4dd-3b967132d362",
        "colab": {
          "base_uri": "https://localhost:8080/"
        }
      },
      "outputs": [
        {
          "output_type": "execute_result",
          "data": {
            "text/plain": [
              "str"
            ]
          },
          "metadata": {},
          "execution_count": 18
        }
      ],
      "source": [
        "aranilan_deger = \"1234\"\n",
        "type(aranilan_deger)\n",
        "#hier gibt es ein Problem mit Ausdruck es muss nicht aranılan_deger,sondern aranilen_deger(ı-> i)"
      ]
    },
    {
      "cell_type": "markdown",
      "metadata": {
        "id": "YGXmeTqM4evE"
      },
      "source": [
        "<br><br><b>5.d</b><br>"
      ]
    },
    {
      "cell_type": "code",
      "execution_count": null,
      "metadata": {
        "id": "JyIDna-X4evF",
        "outputId": "803f1fc5-cd0f-433d-d952-37d07fdcd296"
      },
      "outputs": [
        {
          "ename": "SyntaxError",
          "evalue": "invalid syntax (<ipython-input-45-149f62c41b90>, line 1)",
          "output_type": "error",
          "traceback": [
            "\u001b[0;36m  File \u001b[0;32m\"<ipython-input-45-149f62c41b90>\"\u001b[0;36m, line \u001b[0;32m1\u001b[0m\n\u001b[0;31m    for i <10:\u001b[0m\n\u001b[0m          ^\u001b[0m\n\u001b[0;31mSyntaxError\u001b[0m\u001b[0;31m:\u001b[0m invalid syntax\n"
          ]
        }
      ],
      "source": [
        "for i <10:\n",
        "    print(i)"
      ]
    },
    {
      "cell_type": "code",
      "execution_count": null,
      "metadata": {
        "id": "A1enNX2q4evG",
        "outputId": "73c266b3-f75e-4d45-ca5c-36d3265ff56b",
        "colab": {
          "base_uri": "https://localhost:8080/"
        }
      },
      "outputs": [
        {
          "output_type": "stream",
          "name": "stdout",
          "text": [
            "0\n",
            "1\n",
            "2\n",
            "3\n",
            "4\n",
            "5\n",
            "6\n",
            "7\n",
            "8\n",
            "9\n"
          ]
        }
      ],
      "source": [
        "i=0\n",
        "while i < 10:  #richtige form\n",
        "    print(i)\n",
        "    i +=1\n"
      ]
    },
    {
      "cell_type": "markdown",
      "metadata": {
        "id": "7y9YmNa14evG"
      },
      "source": [
        "<br><br><b>Problem 6.</b><br>(20 Puan)<br><br>\n",
        "Aşağıda bir sayı tahmin oyununun kodları verilmiştir. Bu oyunu istenilen şekilde revize ediniz.<br><br>\n",
        "<b>Oyunun amacı:</b> Bilgisayarın tuttuğu 4 basamaklı, rakamları farklı sayıyı her tahmin sonucu bilgisayardan alınan ipuçları ile bulmak.<br>\n",
        "<b>İstenilen revizyon:</b> Oyun artık sadece 4 basamaklı olmayacak, kullanıcıdan basamak sayısı istenecek ve bu isteğe göre 3-9 basamaklı bir sayı olacak. <br>"
      ]
    },
    {
      "cell_type": "code",
      "execution_count": null,
      "metadata": {
        "id": "mW-TiMZX4evH"
      },
      "outputs": [],
      "source": [
        "import random\n",
        "def basamak(sayi):\n",
        "    if len(sayi)==4:\n",
        "        return True\n",
        "    else:\n",
        "        return False\n",
        "    \n",
        "def rakamlarfarkli(sayi):\n",
        "    sonuc = True\n",
        "    for i in \"0123456789\":\n",
        "        if sayi.count(i) > 1:\n",
        "            sonuc = False\n",
        "    return sonuc\n",
        "\n",
        "def rakamsayi(sayi):\n",
        "    return sayi.isdigit()\n",
        "\n",
        "def ilkrakamsifir(sayi):\n",
        "    if sayi[0] != \"0\":\n",
        "        return True\n",
        "    else:\n",
        "        return False\n",
        "    \n",
        "def sayiuret():\n",
        "    sayi = str(random.randint(1000,9999))\n",
        "    while rakamlarfarkli(sayi) == False:\n",
        "        sayi = str(random.randint(1000,9999))\n",
        "    return sayi\n",
        "    \n",
        "def tahminkontrol(sayi):\n",
        "    kontrol = True\n",
        "    if basamak(sayi) == False:\n",
        "        print(\"4 basamaklı bir sayı girin!\")\n",
        "        kontrol = False\n",
        "    if rakamlarfarkli(sayi) == False:\n",
        "        print(\"Rakamlar farklı olmalı!\")\n",
        "        kontrol = False\n",
        "    if rakamsayi(sayi) == False:\n",
        "        print(\"Tahmininiz rakamlardan oluşmalı!\")\n",
        "        kontrol = False\n",
        "    if ilkrakamsifir(sayi) == False:\n",
        "        print(\"İlk rakam 0 olamaz!\")\n",
        "        kontrol = False\n",
        "    return kontrol\n",
        "\n",
        "def skorla(sayi, tahmin):\n",
        "    artilar = 0\n",
        "    eksiler = 0\n",
        "\n",
        "    for i in tahmin:\n",
        "        if i in sayi:\n",
        "            if sayi.index(i) == tahmin.index(i):\n",
        "                artilar += 1\n",
        "            else:\n",
        "                eksiler += 1\n",
        "    if artilar == 4:\n",
        "        print(\"Kazandın!\")\n",
        "    else:\n",
        "        print(\" + \",artilar,\"\\n\",\"- \",eksiler)\n",
        "    return artilar\n",
        "\n",
        "def degerlendir(i):\n",
        "    if i <4:\n",
        "        print(\"Şanlısın!\")\n",
        "    elif i <6:\n",
        "        print(\"Dahi olmalısın!\")\n",
        "    elif i<7:\n",
        "        print(\"Sen bu işi biliyorsun!\")\n",
        "    elif i<9:\n",
        "        print(\"Fena değil!\")\n",
        "    elif i<11:\n",
        "        print(\"Biraz kafa yorman gerek!\")\n",
        "    else:\n",
        "        print(\"Sallaya sallaya tutturdun sonunda!\")\n",
        "    \n",
        "\n",
        "def oyun():\n",
        "    skor=0\n",
        "    i=0\n",
        "    sayi = sayiuret()\n",
        "    while skor != 4:\n",
        "        kontrol = False\n",
        "        while kontrol == False:\n",
        "            tahmin = input(\"\\nSayı Girin: \")\n",
        "            kontrol = tahminkontrol(tahmin)\n",
        "        skor = skorla(sayi,tahmin)\n",
        "        i += 1\n",
        "    degerlendir(i)\n",
        "    print(i,\"denemede kazandınız!\")"
      ]
    },
    {
      "cell_type": "code",
      "execution_count": null,
      "metadata": {
        "id": "IT5_nxWl4evI",
        "outputId": "0a13717a-f7ee-4423-c9a7-8dfac68bba1f",
        "colab": {
          "base_uri": "https://localhost:8080/",
          "height": 1000
        }
      },
      "outputs": [
        {
          "output_type": "stream",
          "name": "stdout",
          "text": [
            "Kaç basamaklı bir sayıyı tahmin etmek istiyorsun (3-9 arası): 5\n",
            "\n",
            "Sayı Girin: 123\n",
            "5  basamaklı bir sayı girin!\n",
            "\n",
            "Sayı Girin: 123456\n",
            "5  basamaklı bir sayı girin!\n",
            "\n",
            "Sayı Girin: 50245\n",
            "Rakamlar farklı olmalı!\n",
            "\n",
            "Sayı Girin: 12345\n",
            " +  0 \n",
            " -  2\n",
            "\n",
            "Sayı Girin: 14568\n",
            " +  1 \n",
            " -  1\n",
            "\n",
            "Sayı Girin: 54896\n",
            " +  0 \n",
            " -  2\n",
            "\n",
            "Sayı Girin: 67942\n",
            " +  1 \n",
            " -  2\n",
            "\n",
            "Sayı Girin: 10687\n",
            " +  0 \n",
            " -  3\n",
            "\n",
            "Sayı Girin: 36875\n",
            " +  0 \n",
            " -  3\n"
          ]
        },
        {
          "output_type": "error",
          "ename": "KeyboardInterrupt",
          "evalue": "ignored",
          "traceback": [
            "\u001b[0;31m---------------------------------------------------------------------------\u001b[0m",
            "\u001b[0;31mKeyboardInterrupt\u001b[0m                         Traceback (most recent call last)",
            "\u001b[0;32m/usr/local/lib/python3.7/dist-packages/ipykernel/kernelbase.py\u001b[0m in \u001b[0;36m_input_request\u001b[0;34m(self, prompt, ident, parent, password)\u001b[0m\n\u001b[1;32m    728\u001b[0m             \u001b[0;32mtry\u001b[0m\u001b[0;34m:\u001b[0m\u001b[0;34m\u001b[0m\u001b[0;34m\u001b[0m\u001b[0m\n\u001b[0;32m--> 729\u001b[0;31m                 \u001b[0mident\u001b[0m\u001b[0;34m,\u001b[0m \u001b[0mreply\u001b[0m \u001b[0;34m=\u001b[0m \u001b[0mself\u001b[0m\u001b[0;34m.\u001b[0m\u001b[0msession\u001b[0m\u001b[0;34m.\u001b[0m\u001b[0mrecv\u001b[0m\u001b[0;34m(\u001b[0m\u001b[0mself\u001b[0m\u001b[0;34m.\u001b[0m\u001b[0mstdin_socket\u001b[0m\u001b[0;34m,\u001b[0m \u001b[0;36m0\u001b[0m\u001b[0;34m)\u001b[0m\u001b[0;34m\u001b[0m\u001b[0;34m\u001b[0m\u001b[0m\n\u001b[0m\u001b[1;32m    730\u001b[0m             \u001b[0;32mexcept\u001b[0m \u001b[0mException\u001b[0m\u001b[0;34m:\u001b[0m\u001b[0;34m\u001b[0m\u001b[0;34m\u001b[0m\u001b[0m\n",
            "\u001b[0;32m/usr/local/lib/python3.7/dist-packages/jupyter_client/session.py\u001b[0m in \u001b[0;36mrecv\u001b[0;34m(self, socket, mode, content, copy)\u001b[0m\n\u001b[1;32m    802\u001b[0m         \u001b[0;32mtry\u001b[0m\u001b[0;34m:\u001b[0m\u001b[0;34m\u001b[0m\u001b[0;34m\u001b[0m\u001b[0m\n\u001b[0;32m--> 803\u001b[0;31m             \u001b[0mmsg_list\u001b[0m \u001b[0;34m=\u001b[0m \u001b[0msocket\u001b[0m\u001b[0;34m.\u001b[0m\u001b[0mrecv_multipart\u001b[0m\u001b[0;34m(\u001b[0m\u001b[0mmode\u001b[0m\u001b[0;34m,\u001b[0m \u001b[0mcopy\u001b[0m\u001b[0;34m=\u001b[0m\u001b[0mcopy\u001b[0m\u001b[0;34m)\u001b[0m\u001b[0;34m\u001b[0m\u001b[0;34m\u001b[0m\u001b[0m\n\u001b[0m\u001b[1;32m    804\u001b[0m         \u001b[0;32mexcept\u001b[0m \u001b[0mzmq\u001b[0m\u001b[0;34m.\u001b[0m\u001b[0mZMQError\u001b[0m \u001b[0;32mas\u001b[0m \u001b[0me\u001b[0m\u001b[0;34m:\u001b[0m\u001b[0;34m\u001b[0m\u001b[0;34m\u001b[0m\u001b[0m\n",
            "\u001b[0;32m/usr/local/lib/python3.7/dist-packages/zmq/sugar/socket.py\u001b[0m in \u001b[0;36mrecv_multipart\u001b[0;34m(self, flags, copy, track)\u001b[0m\n\u001b[1;32m    624\u001b[0m         \"\"\"\n\u001b[0;32m--> 625\u001b[0;31m         \u001b[0mparts\u001b[0m \u001b[0;34m=\u001b[0m \u001b[0;34m[\u001b[0m\u001b[0mself\u001b[0m\u001b[0;34m.\u001b[0m\u001b[0mrecv\u001b[0m\u001b[0;34m(\u001b[0m\u001b[0mflags\u001b[0m\u001b[0;34m,\u001b[0m \u001b[0mcopy\u001b[0m\u001b[0;34m=\u001b[0m\u001b[0mcopy\u001b[0m\u001b[0;34m,\u001b[0m \u001b[0mtrack\u001b[0m\u001b[0;34m=\u001b[0m\u001b[0mtrack\u001b[0m\u001b[0;34m)\u001b[0m\u001b[0;34m]\u001b[0m\u001b[0;34m\u001b[0m\u001b[0;34m\u001b[0m\u001b[0m\n\u001b[0m\u001b[1;32m    626\u001b[0m         \u001b[0;31m# have first part already, only loop while more to receive\u001b[0m\u001b[0;34m\u001b[0m\u001b[0;34m\u001b[0m\u001b[0;34m\u001b[0m\u001b[0m\n",
            "\u001b[0;32mzmq/backend/cython/socket.pyx\u001b[0m in \u001b[0;36mzmq.backend.cython.socket.Socket.recv\u001b[0;34m()\u001b[0m\n",
            "\u001b[0;32mzmq/backend/cython/socket.pyx\u001b[0m in \u001b[0;36mzmq.backend.cython.socket.Socket.recv\u001b[0;34m()\u001b[0m\n",
            "\u001b[0;32mzmq/backend/cython/socket.pyx\u001b[0m in \u001b[0;36mzmq.backend.cython.socket._recv_copy\u001b[0;34m()\u001b[0m\n",
            "\u001b[0;32m/usr/local/lib/python3.7/dist-packages/zmq/backend/cython/checkrc.pxd\u001b[0m in \u001b[0;36mzmq.backend.cython.checkrc._check_rc\u001b[0;34m()\u001b[0m\n",
            "\u001b[0;31mKeyboardInterrupt\u001b[0m: ",
            "\nDuring handling of the above exception, another exception occurred:\n",
            "\u001b[0;31mKeyboardInterrupt\u001b[0m                         Traceback (most recent call last)",
            "\u001b[0;32m<ipython-input-41-ce4394d3c25d>\u001b[0m in \u001b[0;36m<module>\u001b[0;34m()\u001b[0m\n\u001b[1;32m     96\u001b[0m     \u001b[0mdegerlendir\u001b[0m\u001b[0;34m(\u001b[0m\u001b[0mi\u001b[0m\u001b[0;34m)\u001b[0m\u001b[0;34m\u001b[0m\u001b[0;34m\u001b[0m\u001b[0m\n\u001b[1;32m     97\u001b[0m     \u001b[0mprint\u001b[0m\u001b[0;34m(\u001b[0m\u001b[0mi\u001b[0m\u001b[0;34m,\u001b[0m\u001b[0;34m\"denemede kazandınız!\"\u001b[0m\u001b[0;34m)\u001b[0m\u001b[0;34m\u001b[0m\u001b[0;34m\u001b[0m\u001b[0m\n\u001b[0;32m---> 98\u001b[0;31m \u001b[0moyun\u001b[0m\u001b[0;34m(\u001b[0m\u001b[0minp\u001b[0m\u001b[0;34m)\u001b[0m\u001b[0;34m\u001b[0m\u001b[0;34m\u001b[0m\u001b[0m\n\u001b[0m",
            "\u001b[0;32m<ipython-input-41-ce4394d3c25d>\u001b[0m in \u001b[0;36moyun\u001b[0;34m(inp)\u001b[0m\n\u001b[1;32m     90\u001b[0m         \u001b[0mkontrol\u001b[0m \u001b[0;34m=\u001b[0m \u001b[0;32mFalse\u001b[0m\u001b[0;34m\u001b[0m\u001b[0;34m\u001b[0m\u001b[0m\n\u001b[1;32m     91\u001b[0m         \u001b[0;32mwhile\u001b[0m \u001b[0mkontrol\u001b[0m \u001b[0;34m==\u001b[0m \u001b[0;32mFalse\u001b[0m\u001b[0;34m:\u001b[0m\u001b[0;34m\u001b[0m\u001b[0;34m\u001b[0m\u001b[0m\n\u001b[0;32m---> 92\u001b[0;31m             \u001b[0mtahmin\u001b[0m \u001b[0;34m=\u001b[0m \u001b[0minput\u001b[0m\u001b[0;34m(\u001b[0m\u001b[0;34m\"\\nSayı Girin: \"\u001b[0m\u001b[0;34m)\u001b[0m\u001b[0;34m\u001b[0m\u001b[0;34m\u001b[0m\u001b[0m\n\u001b[0m\u001b[1;32m     93\u001b[0m             \u001b[0mkontrol\u001b[0m \u001b[0;34m=\u001b[0m \u001b[0mtahminkontrol\u001b[0m\u001b[0;34m(\u001b[0m\u001b[0mtahmin\u001b[0m\u001b[0;34m)\u001b[0m\u001b[0;34m\u001b[0m\u001b[0;34m\u001b[0m\u001b[0m\n\u001b[1;32m     94\u001b[0m         \u001b[0mskor\u001b[0m \u001b[0;34m=\u001b[0m \u001b[0mskorla\u001b[0m\u001b[0;34m(\u001b[0m\u001b[0msayi\u001b[0m\u001b[0;34m,\u001b[0m\u001b[0mtahmin\u001b[0m\u001b[0;34m)\u001b[0m\u001b[0;34m\u001b[0m\u001b[0;34m\u001b[0m\u001b[0m\n",
            "\u001b[0;32m/usr/local/lib/python3.7/dist-packages/ipykernel/kernelbase.py\u001b[0m in \u001b[0;36mraw_input\u001b[0;34m(self, prompt)\u001b[0m\n\u001b[1;32m    702\u001b[0m             \u001b[0mself\u001b[0m\u001b[0;34m.\u001b[0m\u001b[0m_parent_ident\u001b[0m\u001b[0;34m,\u001b[0m\u001b[0;34m\u001b[0m\u001b[0;34m\u001b[0m\u001b[0m\n\u001b[1;32m    703\u001b[0m             \u001b[0mself\u001b[0m\u001b[0;34m.\u001b[0m\u001b[0m_parent_header\u001b[0m\u001b[0;34m,\u001b[0m\u001b[0;34m\u001b[0m\u001b[0;34m\u001b[0m\u001b[0m\n\u001b[0;32m--> 704\u001b[0;31m             \u001b[0mpassword\u001b[0m\u001b[0;34m=\u001b[0m\u001b[0;32mFalse\u001b[0m\u001b[0;34m,\u001b[0m\u001b[0;34m\u001b[0m\u001b[0;34m\u001b[0m\u001b[0m\n\u001b[0m\u001b[1;32m    705\u001b[0m         )\n\u001b[1;32m    706\u001b[0m \u001b[0;34m\u001b[0m\u001b[0m\n",
            "\u001b[0;32m/usr/local/lib/python3.7/dist-packages/ipykernel/kernelbase.py\u001b[0m in \u001b[0;36m_input_request\u001b[0;34m(self, prompt, ident, parent, password)\u001b[0m\n\u001b[1;32m    732\u001b[0m             \u001b[0;32mexcept\u001b[0m \u001b[0mKeyboardInterrupt\u001b[0m\u001b[0;34m:\u001b[0m\u001b[0;34m\u001b[0m\u001b[0;34m\u001b[0m\u001b[0m\n\u001b[1;32m    733\u001b[0m                 \u001b[0;31m# re-raise KeyboardInterrupt, to truncate traceback\u001b[0m\u001b[0;34m\u001b[0m\u001b[0;34m\u001b[0m\u001b[0;34m\u001b[0m\u001b[0m\n\u001b[0;32m--> 734\u001b[0;31m                 \u001b[0;32mraise\u001b[0m \u001b[0mKeyboardInterrupt\u001b[0m\u001b[0;34m\u001b[0m\u001b[0;34m\u001b[0m\u001b[0m\n\u001b[0m\u001b[1;32m    735\u001b[0m             \u001b[0;32melse\u001b[0m\u001b[0;34m:\u001b[0m\u001b[0;34m\u001b[0m\u001b[0;34m\u001b[0m\u001b[0m\n\u001b[1;32m    736\u001b[0m                 \u001b[0;32mbreak\u001b[0m\u001b[0;34m\u001b[0m\u001b[0;34m\u001b[0m\u001b[0m\n",
            "\u001b[0;31mKeyboardInterrupt\u001b[0m: "
          ]
        }
      ],
      "source": [
        "import random\n",
        "\n",
        "inp = int(input(\"Kaç basamaklı bir sayıyı tahmin etmek istiyorsun (3-9 arası): \"))\n",
        "\n",
        "def basamak(sayi):\n",
        "    if len(sayi)==inp:\n",
        "        return True\n",
        "    else:\n",
        "        return False\n",
        "\n",
        "def rakamlarfarkli(sayi):\n",
        "    sonuc = True\n",
        "    for i in \"0123456789\":\n",
        "        if sayi.count(i) > 1:\n",
        "            sonuc = False\n",
        "    return sonuc\n",
        "\n",
        "def rakamsayi(sayi):\n",
        "    return sayi.isdigit()\n",
        "\n",
        "def ilkrakamsifir(sayi):\n",
        "    if sayi[0] != \"0\":\n",
        "        return True\n",
        "    else:\n",
        "        return False\n",
        "    \n",
        "def sayiuret(n):\n",
        "    sayi = str(random.randint(pow(10,n-1), pow(10,n) - 1))\n",
        "    while rakamlarfarkli(sayi) == False:\n",
        "        sayi = str(random.randint(pow(10,n-1), pow(10,n) - 1))\n",
        "    return sayi\n",
        "    \n",
        "def tahminkontrol(sayi):\n",
        "    kontrol = True\n",
        "    \n",
        "    if basamak(sayi) == False:\n",
        "        print(inp, \" basamaklı bir sayı girin!\")\n",
        "        kontrol = False\n",
        "    if rakamlarfarkli(sayi) == False:\n",
        "        print(\"Rakamlar farklı olmalı!\")\n",
        "        kontrol = False\n",
        "    if rakamsayi(sayi) == False:\n",
        "        print(\"Tahmininiz rakamlardan oluşmalı!\")\n",
        "        kontrol = False\n",
        "    if ilkrakamsifir(sayi) == False:\n",
        "        print(\"İlk rakam 0 olamaz!\")\n",
        "        kontrol = False\n",
        "    return kontrol\n",
        "\n",
        "def skorla(sayi, tahmin):\n",
        "    artilar = 0\n",
        "    eksiler = 0\n",
        "\n",
        "    for i in tahmin:\n",
        "        if i in sayi:\n",
        "            if sayi.index(i) == tahmin.index(i):\n",
        "                artilar += 1\n",
        "            else:\n",
        "                eksiler += 1\n",
        "    if artilar == len(sayi):\n",
        "        print(\"Kazandın!\")\n",
        "    else:\n",
        "        print(\" + \",artilar,\"\\n\",\"- \",eksiler)\n",
        "    return artilar\n",
        "\n",
        "def degerlendir(i):\n",
        "    if i <4:\n",
        "        print(\"Şanlısın!\")\n",
        "    elif i <6:\n",
        "        print(\"Dahi olmalısın!\")\n",
        "    elif i<7:\n",
        "        print(\"Sen bu işi biliyorsun!\")\n",
        "    elif i<9:\n",
        "        print(\"Fena değil!\")\n",
        "    elif i<11:\n",
        "        print(\"Biraz kafa yorman gerek!\")\n",
        "    else:\n",
        "        print(\"Sallaya sallaya tutturdun sonunda!\")\n",
        "    \n",
        "\n",
        "def oyun(inp):\n",
        "    skor=0\n",
        "    i=0\n",
        "   \n",
        "    if inp not in range(3,10):\n",
        "        while(inp not in range(3,10)):\n",
        "            inp = int(input(\"Yanlış basamak bilgisi girdiniz. Kaç basamaklı bir sayıyı tahmin etmek istiyorsun (3-9 arası): \"))\n",
        "    sayi = sayiuret(inp)\n",
        "    while skor != len(sayi):\n",
        "        kontrol = False\n",
        "        while kontrol == False:\n",
        "            tahmin = input(\"\\nSayı Girin: \")\n",
        "            kontrol = tahminkontrol(tahmin)\n",
        "        skor = skorla(sayi,tahmin)\n",
        "        i += 1\n",
        "    degerlendir(i)\n",
        "    print(i,\"denemede kazandınız!\")\n",
        "oyun(inp)"
      ]
    },
    {
      "cell_type": "markdown",
      "metadata": {
        "id": "B0PB-b8Z4evI"
      },
      "source": [
        "<br><br><b>Problem 7.</b><br>(20 Puan)<br><br>\n",
        "Aşağıda adam asmaca oyununun kodları verilmiştir.\n",
        "Oyunu aşağıdaki gibi geliştirin.<br>\n",
        "<b>a.</b> Kullanıcıdan kaç harfli kelime çözmek istediğini sorun ve ona göre kelime seçin.<br>\n",
        "<b>b.</b> Kullanıcıya kaç hak istediğini sorun ve istediği kadar hak ile oynamasını sağlayın.<br>\n",
        "<b>c.</b> Kullanıcıdan aldığınız cevap aşağıdaki şartları taşımıyorsa uyarı verip yeni tahmin girmesini isteyin. <br>(Bu hatalar ile karşılaşınca kullanıcının hakkından eksilme yapılacak.)<br>\n",
        "   <b>c1.</b> Girilen tahmin tek karakter olmalı. (örnek hatalı girdiler: \"ab\", \"/b*\", \"123\", \"kelime\")<br>\n",
        "   <b>c2.</b> Girilen tahmin harf olmalı. (örnek hatalı girdiler: \"1\", \"*\")<br>\n",
        "   <b>c3.</b> Girilen karakter kullanıcı tarafından daha önce girilmemiş olmalı (Girilen her tahmin daha önce girilen tahminlerden farklı harf olmalı, farklı değilse hata vermeli)"
      ]
    },
    {
      "cell_type": "code",
      "execution_count": null,
      "metadata": {
        "id": "ZZM5Sfp44evJ"
      },
      "outputs": [],
      "source": [
        "import random\n",
        "metin =\"Dünya, Güneş Sistemi'nde Güneş'e en yakın üçüncü gezegen olup şu an için üzerinde yaşam ve sıvı su barındırdığı bilinen tek astronomik cisimdir. Radyometrik tarihleme ve diğer kanıtlara göre 4,5 milyar yıldan fazla süre önce oluşmuştur. Dünya'nın yer çekimi, uzaydaki diğer nesnelerle, özellikle Güneş'le ve tek doğal uydusu Ay'la etkileşime girer. Dünya'nın Güneş'in etrafındaki yörüngesi, 365,256 güneş gün, yani bir yıldız yılı sürer. Bu süre içerisinde Dünya, kendi ekseni etrafında 366,265 kez döner.\"\n",
        "metin_listesi = metin.split()\n",
        "def kelime_uret(metin_listesi):\n",
        "    tahmin_listesi = []\n",
        "    for i in metin_listesi:\n",
        "        #küçük harfe çevir\n",
        "        i = i.lower()\n",
        "\n",
        "        #Noktalama işaretlerini sil\n",
        "        i = i.strip(\",.:;/()?\")\n",
        "\n",
        "        #4 harften az olanları ele\n",
        "        if (len(i) > 3) and (i not in tahmin_listesi) and (\".,:;-\" not in i):\n",
        "            tahmin_listesi.append(i)\n",
        "    \"\"\"     \n",
        "    #listeden rastgele eleman seçme\n",
        "    k = random.randint(0,len(tahmin_listesi))\n",
        "    kelime = tahmin_listesi[k]\n",
        "    \"\"\"\n",
        "    \n",
        "    #listeden rastgele eleman seçme\n",
        "    kelime = random.choice(tahmin_listesi)\n",
        "    \n",
        "    return kelime\n",
        "\n",
        "def adam_asmaca(metin_listesi = metin_listesi):\n",
        "    hak_sayisi = 7\n",
        "    aranilan_kelime = kelime_uret(metin_listesi)\n",
        "    harf_sayisi = len(aranilan_kelime)\n",
        "    #print(aranilan_kelime)\n",
        "\n",
        "    print(\"Adam Asmaca Oyunu\")\n",
        "    print(harf_sayisi, \"harfli kelime\")\n",
        "    print(\"!! \",hak_sayisi,\" hakkınız var !!\")\n",
        "\n",
        "    for i in range(0,harf_sayisi):\n",
        "        print(\"_ \", end=\"\")\n",
        "\n",
        "    tutan_harfler=[]\n",
        "\n",
        "    while True:\n",
        "        #kullanıcıdan harf alalım\n",
        "        tahmin = input(\"\\nBir harf girin: \")\n",
        "        tahmin = tahmin.lower()\n",
        "\n",
        "\n",
        "        if tahmin in aranilan_kelime:\n",
        "            tutan_harfler.append(tahmin)\n",
        "        else:\n",
        "            hak_sayisi = hak_sayisi -1\n",
        "\n",
        "        kontrol = False\n",
        "        for i in aranilan_kelime:\n",
        "            if i in tutan_harfler:\n",
        "                print(i, end=\" \")\n",
        "            else:\n",
        "                print(\"_ \", end=\"\")\n",
        "                kontrol = True\n",
        "\n",
        "        if kontrol == False:\n",
        "            print(\"\\nOYUNU KAZANDINIZ !!\")\n",
        "            break\n",
        "\n",
        "        if hak_sayisi == 0:\n",
        "            print(\"\\n\\nHakkınız bitti !!\")\n",
        "            print (\"\\n\", aranilan_kelime)\n",
        "            break\n",
        "\n",
        "        print(\"\\n!! \",hak_sayisi,\" hakkınız var !!\")"
      ]
    },
    {
      "cell_type": "code",
      "execution_count": null,
      "metadata": {
        "id": "RM9gWCrU4evJ",
        "outputId": "04f735f6-51f5-4fec-bafd-43e8b146e2d6",
        "colab": {
          "base_uri": "https://localhost:8080/"
        }
      },
      "outputs": [
        {
          "output_type": "stream",
          "name": "stdout",
          "text": [
            "Kaç hak istersiniz: 4\n",
            "Kaç harfli bi kelime çözmek istersiniz: 5\n",
            "Adam Asmaca Oyunu\n",
            "5 harfli kelime\n",
            "!!  4  hakkınız var !!\n",
            "_ _ _ _ _ \n",
            "Bir harf girin: l\n",
            "_ _ _ _ _ \n",
            "!!  3  hakkınız var !!\n",
            "\n",
            "Bir harf girin: a\n",
            "_ _ _ _ _ \n",
            "!!  2  hakkınız var !!\n",
            "\n",
            "Bir harf girin: e\n",
            "_ _ _ e _ \n",
            "!!  2  hakkınız var !!\n",
            "\n",
            "Bir harf girin: y\n",
            "_ _ _ e _ \n",
            "!!  1  hakkınız var !!\n",
            "\n",
            "Bir harf girin: s\n",
            "s _ _ e _ \n",
            "!!  1  hakkınız var !!\n",
            "\n",
            "Bir harf girin: k\n",
            "s _ _ e _ \n",
            "\n",
            "Hakkınız bitti !!\n",
            "\n",
            " sürer\n"
          ]
        }
      ],
      "source": [
        "import random\n",
        "metin =\"Dünya, Güneş Sistemi'nde Güneş'e en yakın üçüncü gezegen olup şu an için üzerinde yaşam ve sıvı su barındırdığı bilinen tek astronomik cisimdir. Radyometrik tarihleme ve diğer kanıtlara göre 4,5 milyar yıldan fazla süre önce oluşmuştur. Dünya'nın yer çekimi, uzaydaki diğer nesnelerle, özellikle Güneş'le ve tek doğal uydusu Ay'la etkileşime girer. Dünya'nın Güneş'in etrafındaki yörüngesi, 365,256 güneş gün, yani bir yıldız yılı sürer. Bu süre içerisinde Dünya, kendi ekseni etrafında 366,265 kez döner.\"\n",
        "metin_listesi = metin.split()\n",
        "def kelime_uret(metin_listesi, harfSayi):\n",
        "    tahmin_listesi = []\n",
        "    for i in metin_listesi:\n",
        "        #küçük harfe çevir\n",
        "        i = i.lower()\n",
        "\n",
        "        #Noktalama işaretlerini sil\n",
        "        i = i.strip(\",.:;/()?\")\n",
        "\n",
        "        #4 harften az olanları ele\n",
        "        if (len(i) == harfSayi) and (i not in tahmin_listesi) and (\".,:;-\" not in i):\n",
        "            tahmin_listesi.append(i)\n",
        "    \"\"\"     \n",
        "    #listeden rastgele eleman seçme\n",
        "    k = random.randint(0,len(tahmin_listesi))\n",
        "    kelime = tahmin_listesi[k]\n",
        "    \"\"\"\n",
        "    \n",
        "    #listeden rastgele eleman seçme\n",
        "    kelime = random.choice(tahmin_listesi)\n",
        "    \n",
        "    return kelime\n",
        "\n",
        "def adam_asmaca(metin_listesi = metin_listesi):\n",
        "    hak_sayisi = int(input(\"Kaç hak istersiniz: \"))\n",
        "    harf_sayisi = int(input(\"Kaç harfli bi kelime çözmek istersiniz: \"))\n",
        "    aranilan_kelime = kelime_uret(metin_listesi, harf_sayisi)\n",
        "    \n",
        "    #print(aranilan_kelime)\n",
        "\n",
        "    print(\"Adam Asmaca Oyunu\")\n",
        "    print(harf_sayisi, \"harfli kelime\")\n",
        "    print(\"!! \",hak_sayisi,\" hakkınız var !!\")\n",
        "\n",
        "    for i in range(0,harf_sayisi):\n",
        "        print(\"_ \", end=\"\")\n",
        "\n",
        "    tutan_harfler=[]\n",
        "    kullanilan_harfler = []\n",
        "    while True:\n",
        "        #kullanıcıdan harf alalım\n",
        "        tahmin = input(\"\\nBir harf girin: \")\n",
        "        tahmin = tahmin.lower()\n",
        "        x = 0\n",
        "        while(x==0):\n",
        "            if tahmin.isalpha() == False:\n",
        "                hak_sayisi = hak_sayisi - 1\n",
        "                break\n",
        "                \n",
        "            if tahmin in kullanilan_harfler:\n",
        "                hak_sayisi = hak_sayisi - 1\n",
        "                break\n",
        "            \n",
        "            if len(tahmin) > 1:\n",
        "                hak_sayisi = hak_sayisi - 1\n",
        "                break\n",
        "            \n",
        "            if tahmin in aranilan_kelime:\n",
        "                tutan_harfler.append(tahmin)\n",
        "            else:\n",
        "                hak_sayisi = hak_sayisi - 1\n",
        "            x = 1\n",
        "\n",
        "        kontrol = False\n",
        "        for i in aranilan_kelime:\n",
        "            if i in tutan_harfler:\n",
        "                print(i, end=\" \")\n",
        "            else:\n",
        "                print(\"_ \", end=\"\")\n",
        "                kontrol = True\n",
        "\n",
        "        if kontrol == False:\n",
        "            print(\"\\nOYUNU KAZANDINIZ !!\")\n",
        "            break\n",
        "\n",
        "        if hak_sayisi == 0:\n",
        "            print(\"\\n\\nHakkınız bitti !!\")\n",
        "            print (\"\\n\", aranilan_kelime)\n",
        "            break\n",
        "\n",
        "        print(\"\\n!! \",hak_sayisi,\" hakkınız var !!\")\n",
        "        kullanilan_harfler.append(tahmin)\n",
        "adam_asmaca(metin_listesi)"
      ]
    }
  ],
  "metadata": {
    "kernelspec": {
      "display_name": "Python 3",
      "language": "python",
      "name": "python3"
    },
    "language_info": {
      "codemirror_mode": {
        "name": "ipython",
        "version": 3
      },
      "file_extension": ".py",
      "mimetype": "text/x-python",
      "name": "python",
      "nbconvert_exporter": "python",
      "pygments_lexer": "ipython3",
      "version": "3.8.5"
    },
    "colab": {
      "name": "ZP_042022.ipynb adlı not defterinin kopyası",
      "provenance": []
    }
  },
  "nbformat": 4,
  "nbformat_minor": 0
}